{
  "nbformat": 4,
  "nbformat_minor": 0,
  "metadata": {
    "colab": {
      "name": "Untitled91.ipynb",
      "provenance": []
    },
    "kernelspec": {
      "name": "python3",
      "display_name": "Python 3"
    }
  },
  "cells": [
    {
      "cell_type": "markdown",
      "metadata": {
        "id": "gRr9-e79u8mx",
        "colab_type": "text"
      },
      "source": [
        "1.1 Write a Python Program(with class concepts) to find the area of the triangle using the below\n",
        "formula.\n",
        "area = (s*(s-a)*(s-b)*(s-c)) ** 0.5\n",
        "Function to take the length of the sides of triangle from user should be defined in the parent\n",
        "class and function to calculate the area should be defined in subclass."
      ]
    },
    {
      "cell_type": "code",
      "metadata": {
        "id": "mLSalhjcu-6b",
        "colab_type": "code",
        "colab": {}
      },
      "source": [
        "class take_input:\n",
        "  def __init__(self,a,b,c):\n",
        "    self.a = a\n",
        "    self.b = b\n",
        "    self.c = c"
      ],
      "execution_count": 51,
      "outputs": []
    },
    {
      "cell_type": "code",
      "metadata": {
        "id": "87A7QW94MRHC",
        "colab_type": "code",
        "colab": {}
      },
      "source": [
        "class cal_area(take_input):\n",
        "  def area(self):\n",
        "    s = (self.a + self.b+ self.c) / 2 \n",
        "    ar = (s*(s-self.a)*(s-self.b)*(s-self.c))  **0.5\n",
        "    return ar\n",
        "\n"
      ],
      "execution_count": 64,
      "outputs": []
    },
    {
      "cell_type": "code",
      "metadata": {
        "id": "IwqFMpHkMwbp",
        "colab_type": "code",
        "colab": {
          "base_uri": "https://localhost:8080/",
          "height": 35
        },
        "outputId": "15c97a9f-7c47-436b-e406-fa7c7e49f159"
      },
      "source": [
        "\n",
        "are = cal_area(3,4,5)\n",
        "are.area()"
      ],
      "execution_count": 65,
      "outputs": [
        {
          "output_type": "execute_result",
          "data": {
            "text/plain": [
              "6.0"
            ]
          },
          "metadata": {
            "tags": []
          },
          "execution_count": 65
        }
      ]
    },
    {
      "cell_type": "markdown",
      "metadata": {
        "id": "w1gm3iB1W7Kj",
        "colab_type": "text"
      },
      "source": [
        "1.2.Write a function filter_long_words() that takes a list of words and an integer n and returns\n",
        "the list of words that are longer than n."
      ]
    },
    {
      "cell_type": "code",
      "metadata": {
        "id": "LX37dhUjybUH",
        "colab_type": "code",
        "colab": {
          "base_uri": "https://localhost:8080/",
          "height": 35
        },
        "outputId": "dcf7f128-aa95-41be-ab71-1fa0b52edcc7"
      },
      "source": [
        "def filter_long_words(word_list, n):\n",
        "  new_list = []\n",
        "  for i in word_list:\n",
        "    len_i = len(i)\n",
        "    if len_i > n:\n",
        "      new_list.append(i)\n",
        "  return new_list\n",
        "\n",
        "word_list = ['hello', 'world', 'how', 'r', 'u']\n",
        "\n",
        "filter_long_words(word_list, 4)"
      ],
      "execution_count": 69,
      "outputs": [
        {
          "output_type": "execute_result",
          "data": {
            "text/plain": [
              "['hello', 'world']"
            ]
          },
          "metadata": {
            "tags": []
          },
          "execution_count": 69
        }
      ]
    },
    {
      "cell_type": "markdown",
      "metadata": {
        "id": "US3vm3l8XpOd",
        "colab_type": "text"
      },
      "source": [
        "2.1 Write a Python program using function concept that maps list of words into a list of integers\n",
        "representing the lengths of the corresponding words."
      ]
    },
    {
      "cell_type": "code",
      "metadata": {
        "id": "TjusmFxqXe4s",
        "colab_type": "code",
        "colab": {
          "base_uri": "https://localhost:8080/",
          "height": 52
        },
        "outputId": "4ee943dc-22e9-403a-a441-445eadcc38ff"
      },
      "source": [
        "def word_map(word_list):\n",
        "  len_list = [len(i) for i in word_list]\n",
        "  return len_list\n",
        "\n",
        "print(word_list)\n",
        "word_map(word_list)\n"
      ],
      "execution_count": 72,
      "outputs": [
        {
          "output_type": "stream",
          "text": [
            "['hello', 'world', 'how', 'r', 'u']\n"
          ],
          "name": "stdout"
        },
        {
          "output_type": "execute_result",
          "data": {
            "text/plain": [
              "[5, 5, 3, 1, 1]"
            ]
          },
          "metadata": {
            "tags": []
          },
          "execution_count": 72
        }
      ]
    },
    {
      "cell_type": "markdown",
      "metadata": {
        "id": "ZQvxmshEYINN",
        "colab_type": "text"
      },
      "source": [
        "2.2 Write a Python function which takes a character (i.e. a string of length 1) and returns True if\n",
        "it is a vowel, False otherwise."
      ]
    },
    {
      "cell_type": "code",
      "metadata": {
        "id": "5koI_x6GYGxL",
        "colab_type": "code",
        "colab": {
          "base_uri": "https://localhost:8080/",
          "height": 35
        },
        "outputId": "934be0cc-e242-4ec6-ed11-888dbd4fec4a"
      },
      "source": [
        "vowel = ['a','e','i','o','u']\n",
        "def vowel_check(c):\n",
        "  if c in vowel:\n",
        "    return True\n",
        "  else:\n",
        "    return False\n",
        "\n",
        "vowel_check('b')"
      ],
      "execution_count": 75,
      "outputs": [
        {
          "output_type": "execute_result",
          "data": {
            "text/plain": [
              "False"
            ]
          },
          "metadata": {
            "tags": []
          },
          "execution_count": 75
        }
      ]
    },
    {
      "cell_type": "code",
      "metadata": {
        "id": "cfKLwML8Yprc",
        "colab_type": "code",
        "colab": {
          "base_uri": "https://localhost:8080/",
          "height": 104
        },
        "outputId": "547b0869-db85-4856-c64f-dc115e8c5756"
      },
      "source": [
        "word = 'hello'\n",
        "for i in word:\n",
        "  print(vowel_check(i))"
      ],
      "execution_count": 77,
      "outputs": [
        {
          "output_type": "stream",
          "text": [
            "False\n",
            "True\n",
            "False\n",
            "False\n",
            "True\n"
          ],
          "name": "stdout"
        }
      ]
    },
    {
      "cell_type": "code",
      "metadata": {
        "id": "kXxAOEwaYzBv",
        "colab_type": "code",
        "colab": {}
      },
      "source": [
        ""
      ],
      "execution_count": null,
      "outputs": []
    }
  ]
}