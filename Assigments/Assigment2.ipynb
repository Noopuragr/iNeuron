{
  "nbformat": 4,
  "nbformat_minor": 0,
  "metadata": {
    "colab": {
      "name": "Untitled90.ipynb",
      "provenance": []
    },
    "kernelspec": {
      "name": "python3",
      "display_name": "Python 3"
    }
  },
  "cells": [
    {
      "cell_type": "markdown",
      "metadata": {
        "id": "QSk2c4J2rjW2",
        "colab_type": "text"
      },
      "source": [
        "1. Create the below pattern using nested for loop in Python."
      ]
    },
    {
      "cell_type": "code",
      "metadata": {
        "id": "MMlKZ8cgrfAA",
        "colab_type": "code",
        "colab": {
          "base_uri": "https://localhost:8080/",
          "height": 191
        },
        "outputId": "3bb517cb-8929-47f5-fe7c-34044e3e46d0"
      },
      "source": [
        "for i  in range(0,5):\n",
        "  for j in range(0,i+1):\n",
        "    print(\"*\", end = \"\")\n",
        "  print(\"\\r\")\n",
        "\n",
        "for i in range(5,0,-1):\n",
        "  for j in range(0,i+1):\n",
        "    print(\"*\", end = \"\")\n",
        "  print(\"\\r\")\n"
      ],
      "execution_count": 8,
      "outputs": [
        {
          "output_type": "stream",
          "text": [
            "*\r\n",
            "**\r\n",
            "***\r\n",
            "****\r\n",
            "*****\r\n",
            "******\r\n",
            "*****\r\n",
            "****\r\n",
            "***\r\n",
            "**\r\n"
          ],
          "name": "stdout"
        }
      ]
    },
    {
      "cell_type": "markdown",
      "metadata": {
        "id": "6NI6lq5Wt-Kp",
        "colab_type": "text"
      },
      "source": [
        "2. Write a Python program to reverse a word after accepting the input from the user.\n",
        "\n",
        "\n",
        "  Input word: ineuron\n",
        "  Output: norueni"
      ]
    },
    {
      "cell_type": "code",
      "metadata": {
        "id": "4VG150Nur8yd",
        "colab_type": "code",
        "colab": {
          "base_uri": "https://localhost:8080/",
          "height": 52
        },
        "outputId": "07d388d5-21bc-459c-bdfb-0e666a94da48"
      },
      "source": [
        "word = input(\"Enter a word\")\n",
        "print(word[::-1])"
      ],
      "execution_count": 11,
      "outputs": [
        {
          "output_type": "stream",
          "text": [
            "Enter a wordhello\n",
            "olleh\n"
          ],
          "name": "stdout"
        }
      ]
    },
    {
      "cell_type": "code",
      "metadata": {
        "id": "Medyht7JuP2n",
        "colab_type": "code",
        "colab": {}
      },
      "source": [
        ""
      ],
      "execution_count": null,
      "outputs": []
    }
  ]
}